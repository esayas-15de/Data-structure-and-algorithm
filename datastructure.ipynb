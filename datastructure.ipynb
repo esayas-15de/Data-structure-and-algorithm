{
 "cells": [
  {
   "cell_type": "markdown",
   "id": "049290ce",
   "metadata": {},
   "source": [
    "## sample student profile"
   ]
  },
  {
   "cell_type": "markdown",
   "id": "9facc694",
   "metadata": {},
   "source": [
    "**Name:** Esayas Melaku  \n",
    "**ID:** DBU1601142 \n",
    "**Department:** computer Science  \n",
    "**GitHub:** (https://github.com/esayas-15de)  \n",
    "**Course:** Data Structure and Algorithms"
   ]
  },
  {
   "cell_type": "code",
   "execution_count": 6,
   "id": "e0e6f968",
   "metadata": {},
   "outputs": [],
   "source": [
    "# 🧑‍🎓 Sample Student Profiles\n",
    "Students = [\n",
    "    {'id': 'DBU1500003', 'name': 'Dawit', 'dept': 'DS', 'cgpa': 3.34},\n",
    "    {'id': 'DBU1500001', 'name': 'Abrham', 'dept': 'CS', 'cgpa': 3.12},\n",
    "    {'id': 'DBU1500009', 'name': 'Soliana', 'dept': 'DS', 'cgpa': 2.74},\n",
    "    {'id': 'DBU1500005', 'name': 'Rahel', 'dept': 'CS', 'cgpa': 3.10},\n",
    "    {'id': 'DBU1500007', 'name': 'Liya', 'dept': 'DS', 'cgpa': 3.67},\n",
    "    {'id': 'DBU1500002', 'name': 'Biniam', 'dept': 'CS', 'cgpa': 3.45},\n",
    "    {'id': 'DBU1500006', 'name': 'Yonas', 'dept': 'CS', 'cgpa': 2.88},\n",
    "    {'id': 'DBU1500010', 'name': 'Marta', 'dept': 'DS', 'cgpa': 3.95},\n",
    "    {'id': 'DBU1500004', 'name': 'Kidus', 'dept': 'CS', 'cgpa': 2.66},\n",
    "    {'id': 'DBU1500008', 'name': 'Selam', 'dept': 'DS', 'cgpa': 3.22}\n",
    "]\n"
   ]
  },
  {
   "cell_type": "markdown",
   "id": "b60b8380",
   "metadata": {},
   "source": [
    "## algorithm performance analysis"
   ]
  },
  {
   "cell_type": "markdown",
   "id": "43681138",
   "metadata": {},
   "source": [
    "## bubble sort"
   ]
  },
  {
   "cell_type": "markdown",
   "id": "61d71adf",
   "metadata": {},
   "source": [
    "- **Time Complexity:** O(n^2)\n",
    "- **Best Case:** O(n) (if already sorted)\n",
    "- **Worst Case:** O(n^2)\n",
    "- **Usefulness:** Good for small datasets but inefficient for large data."
   ]
  },
  {
   "cell_type": "markdown",
   "id": "0f7b1d6f",
   "metadata": {},
   "source": [
    "## bubble sort algorithm performance by student id"
   ]
  },
  {
   "cell_type": "code",
   "execution_count": 7,
   "id": "1d1a3160",
   "metadata": {},
   "outputs": [
    {
     "name": "stdout",
     "output_type": "stream",
     "text": [
      "🔢 Students Sorted by ID (Bubble Sort):\n",
      "{'id': 'DBU1500001', 'name': 'Abrham', 'dept': 'CS', 'cgpa': 3.12}\n",
      "{'id': 'DBU1500002', 'name': 'Biniam', 'dept': 'CS', 'cgpa': 3.45}\n",
      "{'id': 'DBU1500003', 'name': 'Dawit', 'dept': 'DS', 'cgpa': 3.34}\n",
      "{'id': 'DBU1500004', 'name': 'Kidus', 'dept': 'CS', 'cgpa': 2.66}\n",
      "{'id': 'DBU1500005', 'name': 'Rahel', 'dept': 'CS', 'cgpa': 3.1}\n",
      "{'id': 'DBU1500006', 'name': 'Yonas', 'dept': 'CS', 'cgpa': 2.88}\n",
      "{'id': 'DBU1500007', 'name': 'Liya', 'dept': 'DS', 'cgpa': 3.67}\n",
      "{'id': 'DBU1500008', 'name': 'Selam', 'dept': 'DS', 'cgpa': 3.22}\n",
      "{'id': 'DBU1500009', 'name': 'Soliana', 'dept': 'DS', 'cgpa': 2.74}\n",
      "{'id': 'DBU1500010', 'name': 'Marta', 'dept': 'DS', 'cgpa': 3.95}\n"
     ]
    }
   ],
   "source": [
    "def bubble_sort_by_id(students):\n",
    "    n = len(students)\n",
    "    for i in range(n):\n",
    "        for j in range(0, n - i - 1):\n",
    "            if students[j]['id'] > students[j + 1]['id']:\n",
    "                students[j], students[j + 1] = students[j + 1], students[j]\n",
    "    return students\n",
    "\n",
    "sorted_by_id = bubble_sort_by_id(Students.copy())\n",
    "print(\"🔢 Students Sorted by ID (Bubble Sort):\")\n",
    "for student in sorted_by_id:\n",
    "    print(student)\n"
   ]
  },
  {
   "cell_type": "markdown",
   "id": "7edd96c5",
   "metadata": {},
   "source": [
    "## insertion sort"
   ]
  },
  {
   "cell_type": "markdown",
   "id": "6b2fd8a8",
   "metadata": {},
   "source": [
    "- **Time Complexity:** O(n^2)\n",
    "- **Best Case:** O(n) (if data is almost sorted)\n",
    "- **Advantage:** Simple to implement and works efficiently on nearly sorted data."
   ]
  },
  {
   "cell_type": "markdown",
   "id": "2a229021",
   "metadata": {},
   "source": [
    "### insertion sort by name"
   ]
  },
  {
   "cell_type": "code",
   "execution_count": 8,
   "id": "08ae6e6a",
   "metadata": {},
   "outputs": [
    {
     "name": "stdout",
     "output_type": "stream",
     "text": [
      "\n",
      "🔠 Students Sorted by Name (Insertion Sort):\n",
      "{'id': 'DBU1500001', 'name': 'Abrham', 'dept': 'CS', 'cgpa': 3.12}\n",
      "{'id': 'DBU1500002', 'name': 'Biniam', 'dept': 'CS', 'cgpa': 3.45}\n",
      "{'id': 'DBU1500003', 'name': 'Dawit', 'dept': 'DS', 'cgpa': 3.34}\n",
      "{'id': 'DBU1500004', 'name': 'Kidus', 'dept': 'CS', 'cgpa': 2.66}\n",
      "{'id': 'DBU1500007', 'name': 'Liya', 'dept': 'DS', 'cgpa': 3.67}\n",
      "{'id': 'DBU1500010', 'name': 'Marta', 'dept': 'DS', 'cgpa': 3.95}\n",
      "{'id': 'DBU1500005', 'name': 'Rahel', 'dept': 'CS', 'cgpa': 3.1}\n",
      "{'id': 'DBU1500008', 'name': 'Selam', 'dept': 'DS', 'cgpa': 3.22}\n",
      "{'id': 'DBU1500009', 'name': 'Soliana', 'dept': 'DS', 'cgpa': 2.74}\n",
      "{'id': 'DBU1500006', 'name': 'Yonas', 'dept': 'CS', 'cgpa': 2.88}\n"
     ]
    }
   ],
   "source": [
    "def insertion_sort_by_name(students):\n",
    "    for i in range(1, len(students)):\n",
    "        key = students[i]\n",
    "        j = i - 1\n",
    "        while j >= 0 and key['name'].lower() < students[j]['name'].lower():\n",
    "            students[j + 1] = students[j]\n",
    "            j -= 1\n",
    "        students[j + 1] = key\n",
    "    return students\n",
    "\n",
    "sorted_by_name = insertion_sort_by_name(Students.copy())\n",
    "print(\"\\n🔠 Students Sorted by Name (Insertion Sort):\")\n",
    "for student in sorted_by_name:\n",
    "    print(student)\n"
   ]
  },
  {
   "cell_type": "markdown",
   "id": "2f447e34",
   "metadata": {},
   "source": [
    "## selection sort "
   ]
  },
  {
   "cell_type": "markdown",
   "id": "ac39a9c9",
   "metadata": {},
   "source": [
    "- **Time Complexity:** O(n^2)\n",
    "- **Best/Worst Case:** Always O(n^2)\n",
    "- **Strength:** Minimal swaps compared to Bubble Sort."
   ]
  },
  {
   "cell_type": "markdown",
   "id": "3f49f837",
   "metadata": {},
   "source": [
    "### select students by cgpa"
   ]
  },
  {
   "cell_type": "code",
   "execution_count": 9,
   "id": "7b035657",
   "metadata": {},
   "outputs": [
    {
     "name": "stdout",
     "output_type": "stream",
     "text": [
      "\n",
      "🎯 Students Sorted by CGPA Descending (Selection Sort):\n",
      "{'id': 'DBU1500010', 'name': 'Marta', 'dept': 'DS', 'cgpa': 3.95}\n",
      "{'id': 'DBU1500007', 'name': 'Liya', 'dept': 'DS', 'cgpa': 3.67}\n",
      "{'id': 'DBU1500002', 'name': 'Biniam', 'dept': 'CS', 'cgpa': 3.45}\n",
      "{'id': 'DBU1500003', 'name': 'Dawit', 'dept': 'DS', 'cgpa': 3.34}\n",
      "{'id': 'DBU1500008', 'name': 'Selam', 'dept': 'DS', 'cgpa': 3.22}\n",
      "{'id': 'DBU1500001', 'name': 'Abrham', 'dept': 'CS', 'cgpa': 3.12}\n",
      "{'id': 'DBU1500005', 'name': 'Rahel', 'dept': 'CS', 'cgpa': 3.1}\n",
      "{'id': 'DBU1500006', 'name': 'Yonas', 'dept': 'CS', 'cgpa': 2.88}\n",
      "{'id': 'DBU1500009', 'name': 'Soliana', 'dept': 'DS', 'cgpa': 2.74}\n",
      "{'id': 'DBU1500004', 'name': 'Kidus', 'dept': 'CS', 'cgpa': 2.66}\n"
     ]
    }
   ],
   "source": [
    "def selection_sort_by_cgpa(students):\n",
    "    n = len(students)\n",
    "    for i in range(n):\n",
    "        max_idx = i\n",
    "        for j in range(i + 1, n):\n",
    "            if students[j]['cgpa'] > students[max_idx]['cgpa']:\n",
    "                max_idx = j\n",
    "        students[i], students[max_idx] = students[max_idx], students[i]\n",
    "    return students\n",
    "\n",
    "sorted_by_cgpa = selection_sort_by_cgpa(Students.copy())\n",
    "print(\"\\n🎯 Students Sorted by CGPA Descending (Selection Sort):\")\n",
    "for student in sorted_by_cgpa:\n",
    "    print(student)\n"
   ]
  },
  {
   "cell_type": "markdown",
   "id": "9e476d50",
   "metadata": {},
   "source": [
    "# conclusion"
   ]
  },
  {
   "cell_type": "markdown",
   "id": "f9f90a33",
   "metadata": {},
   "source": [
    "\n",
    "In this project, we implemented and tested three fundamental sorting algorithms—Bubble Sort, Insertion Sort, and Selection Sort—on a list of student dictionaries sorted by different attributes: ID, Name, and CGPA.\n",
    "\n",
    "🧠 Algorithm Performance Comparison\n",
    "\n",
    "Algorithm\tBest Case\tAverage Case\tWorst Case\tTime Complexity\tSpace Complexity\n",
    "Bubble Sort\tO(n)\tO(n²)\tO(n²)\tO(n²)\tO(1)\n",
    "Insertion Sort\tO(n)\tO(n²)\tO(n²)\tO(n²)\tO(1)\n",
    "Selection Sort\tO(n²)\tO(n²)\tO(n²)\tO(n²)\tO(1)\n",
    "Bubble Sort by ID worked efficiently for small datasets but is not recommended for large ones due to its quadratic time complexity.\n",
    "\n",
    "Insertion Sort by Name is very effective for nearly sorted data and works well for small to medium-sized datasets.\n",
    "\n",
    "Selection Sort by CGPA guarantees the fewest swaps but remains slow due to its O(n²) comparisons.\n",
    "\n",
    "👍 Advantages\n",
    "Simple and easy to implement.\n",
    "\n",
    "Useful for small datasets or educational purposes.\n",
    "\n",
    "No additional memory usage since all algorithms are in-place.\n",
    "\n",
    "👎 Disadvantages\n",
    "Inefficient for large datasets due to quadratic time complexity.\n",
    "\n",
    "Not suitable for real-time systems or applications that require fast sorting with large inputs.\n",
    "\n",
    "Do not take advantage of modern hardware (e.g., cache-friendliness, parallelism).\n",
    "\n",
    "🧾 Final Thoughts\n",
    "While these basic sorting algorithms are great for learning and understanding fundamental concepts of algorithm design, real-world applications should use more optimized algorithms like Merge Sort, Quick Sort, or Tim Sort (used by Python’s built-in sorted() function)."
   ]
  }
 ],
 "metadata": {
  "kernelspec": {
   "display_name": "Python 3",
   "language": "python",
   "name": "python3"
  },
  "language_info": {
   "codemirror_mode": {
    "name": "ipython",
    "version": 3
   },
   "file_extension": ".py",
   "mimetype": "text/x-python",
   "name": "python",
   "nbconvert_exporter": "python",
   "pygments_lexer": "ipython3",
   "version": "3.13.0"
  }
 },
 "nbformat": 4,
 "nbformat_minor": 5
}
